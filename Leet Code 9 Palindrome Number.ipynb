{
 "cells": [
  {
   "cell_type": "markdown",
   "metadata": {},
   "source": [
    "Aim: Return true if a number is the same when it is reversed"
   ]
  },
  {
   "cell_type": "code",
   "execution_count": 7,
   "metadata": {},
   "outputs": [],
   "source": [
    "#input\n",
    "x = 120"
   ]
  },
  {
   "cell_type": "markdown",
   "metadata": {},
   "source": [
    "Pseudocode:\n",
    "convert the number to a string\n",
    "reverse it\n",
    "compare"
   ]
  },
  {
   "cell_type": "code",
   "execution_count": 11,
   "metadata": {},
   "outputs": [
    {
     "name": "stdout",
     "output_type": "stream",
     "text": [
      "string input: 120\n",
      "0\n",
      "2\n",
      "1\n",
      "length: 3\n"
     ]
    }
   ],
   "source": [
    "x_string = str(x)\n",
    "print('string input:',x_string)\n",
    "print(x_string[-1])\n",
    "print(x_string[-2])\n",
    "print(x_string[-3])\n",
    "print('length:',len(x_string))"
   ]
  },
  {
   "cell_type": "markdown",
   "metadata": {},
   "source": [
    "psuedo to reverse string\n",
    "find the number of digits in the string (n)\n",
    "for loop \n",
    "range (-1,-n)\n"
   ]
  },
  {
   "cell_type": "code",
   "execution_count": 19,
   "metadata": {},
   "outputs": [
    {
     "name": "stdout",
     "output_type": "stream",
     "text": [
      "['1', '2', '0']\n",
      "['0', '2', '1']\n"
     ]
    }
   ],
   "source": [
    "array = []\n",
    "for digit in x_string:\n",
    "    array.append(digit)\n",
    "    \n",
    "print(array)\n",
    "reverseda = array[::-1]\n",
    "print(reverseda)\n",
    "\n",
    "if(array == reverseda):\n",
    "    true\n",
    "    "
   ]
  },
  {
   "cell_type": "code",
   "execution_count": null,
   "metadata": {},
   "outputs": [],
   "source": [
    "# code submitted to leet\n",
    "class Solution:\n",
    "    def isPalindrome(self, x: int) -> bool:\n",
    "        x_string = str(x)\n",
    "        array = []\n",
    "        for digit in x_string:\n",
    "            array.append(digit)\n",
    "    \n",
    "            #print(array)\n",
    "            reverseda = array[::-1]\n",
    "            #print(reverseda)\n",
    "\n",
    "        #if(array == reverseda):\n",
    "            #answer = True\n",
    "        #else:\n",
    "            #answer = False\n",
    "        #return(answer)\n",
    "        if(array == reverseda):\n",
    "            return(True)\n",
    "        else:\n",
    "            return(False)\n",
    "        "
   ]
  },
  {
   "cell_type": "code",
   "execution_count": null,
   "metadata": {},
   "outputs": [],
   "source": []
  }
 ],
 "metadata": {
  "kernelspec": {
   "display_name": "Python 3",
   "language": "python",
   "name": "python3"
  },
  "language_info": {
   "codemirror_mode": {
    "name": "ipython",
    "version": 3
   },
   "file_extension": ".py",
   "mimetype": "text/x-python",
   "name": "python",
   "nbconvert_exporter": "python",
   "pygments_lexer": "ipython3",
   "version": "3.6.5"
  }
 },
 "nbformat": 4,
 "nbformat_minor": 2
}
